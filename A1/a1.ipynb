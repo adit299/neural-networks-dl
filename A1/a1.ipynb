{
  "cells": [
    {
      "cell_type": "markdown",
      "metadata": {
        "id": "RlSySMkNiktJ"
      },
      "source": [
        "# CSC413 Assignment 1: Word Embeddings\n",
        "\n",
        "**Deadline**: February 4, 2020 by 10pm\n",
        "\n",
        "**Submission**: Compile and submit a PDF report containing your code, outputs,\n",
        "and your written solutions. Do not use screenshots and images to present\n",
        "textual code/output (other than legible, hand-written answer).\n",
        "You may export the completed notebook on Google Colab, but if you do so\n",
        "**it is your responsibly to make sure that your code and answers do not get cut off**.\n",
        "\n",
        "**Late Submission**: Please see the syllabus for the late submission criteria.\n",
        "\n",
        "You must work individually on this assignment.\n",
        "\n",
        "Based on an assignment by George Dahl, Jing Yao Li, and Roger Grosse\n",
        "\n",
        "In this assignment, we will build a neural network that can predict the next word\n",
        "in a sentence given the previous three. We will apply an idea called *weight sharing*\n",
        "to go beyond the multi-layer perceptrons that we discussed in class.\n",
        "\n",
        "We will also solve this problem problem twice: once in numpy, and once\n",
        "using PyTorch. When using numpy, you'll implement the backpropagation\n",
        "computation manually.\n",
        "\n",
        "The prediction task is not very interesting on its own, but in learning to predict\n",
        "subsequent words given the previous three, our neural networks will learn\n",
        "about how to *represent* words. In the last part of the assignment, we'll explore\n",
        "the *vector representations* of words that our model produces, and analyze these\n",
        "representations.\n",
        "\n",
        "The assignment is structured as follows:\n",
        "\n",
        "- Question 1. Data exploration\n",
        "- Question 2. Background Math\n",
        "- Question 3. Building the Neural Network in NumPy\n",
        "- Question 4. Building the Neural Network in PyTorch\n",
        "- Question 5. Analyzing the embeddings\n",
        "\n",
        "You may modify the starter code, including changing the signatures of helper \n",
        "functions and adding/removing helper functions. However, please make sure that your\n",
        "TA can understand what you are doing and why."
      ]
    },
    {
      "cell_type": "code",
      "execution_count": null,
      "metadata": {
        "id": "zWj0Sa1Piktk"
      },
      "outputs": [],
      "source": [
        "import pandas\n",
        "import pdb\n",
        "import numpy as np\n",
        "import matplotlib.pyplot as plt\n",
        "\n",
        "import torch\n",
        "import torch.nn as nn\n",
        "import torch.optim as optim"
      ]
    },
    {
      "cell_type": "markdown",
      "metadata": {
        "id": "YgsITrcsiktu"
      },
      "source": [
        "## Question 1. Data\n",
        "\n",
        "With any machine learning problem, the first thing that we would want to do\n",
        "is to get an intuitive understanding of what our data looks like.\n",
        "Download the file `raw_sentences.txt` from Quercus.\n",
        "\n",
        "If you're using Google Colab, upload the file to Google Drive.\n",
        "Then, mount Google Drive from your Google Colab notebook:"
      ]
    },
    {
      "cell_type": "code",
      "execution_count": null,
      "metadata": {
        "colab": {
          "base_uri": "https://localhost:8080/"
        },
        "id": "ioGhOKoBikty",
        "outputId": "0f30dbd2-eaa9-400b-bd00-5507ee4bf98a"
      },
      "outputs": [
        {
          "output_type": "stream",
          "name": "stdout",
          "text": [
            "Mounted at /content/gdrive\n"
          ]
        }
      ],
      "source": [
        "from google.colab import drive\n",
        "drive.mount('/content/gdrive')"
      ]
    },
    {
      "cell_type": "markdown",
      "metadata": {
        "id": "vF_3kExGikt1"
      },
      "source": [
        "Find the path to `raw_sentences.txt`:"
      ]
    },
    {
      "cell_type": "code",
      "execution_count": null,
      "metadata": {
        "id": "JPyBzzu6ikt6"
      },
      "outputs": [],
      "source": [
        "file_path = '/content/gdrive/My Drive/CSC413/A1/raw_sentences.txt' "
      ]
    },
    {
      "cell_type": "markdown",
      "metadata": {
        "id": "BL_uRxyMikt_"
      },
      "source": [
        "You might find it helpful to know that you can run shell commands (like `ls`) by\n",
        "using `!` in Google Colab, like this:"
      ]
    },
    {
      "cell_type": "code",
      "execution_count": null,
      "metadata": {
        "id": "4I-I3hKFikuC",
        "colab": {
          "base_uri": "https://localhost:8080/"
        },
        "outputId": "2c1b51c0-db43-4205-8b77-b9e87150b053"
      },
      "outputs": [
        {
          "output_type": "stream",
          "name": "stdout",
          "text": [
            "'Ace The Interview with NexJ Systems.pdf'\n",
            " adit_krishnan.jpg\n",
            "'adit_resume (1).pdf'\n",
            "'adit_resume (2).pdf'\n",
            "'adit_resume (3).pdf'\n",
            "'adit_resume (4).pdf'\n",
            "'adit_resume (5).pdf'\n",
            "'adit_resume (6).pdf'\n",
            " adit_resume.pdf\n",
            "'Anthro Textbook'\n",
            "'Aurélien Géron - Hands-On Machine Learning with Scikit-Learn and TensorFlow Concepts, Tools, and Techniques to Build Intelligent Systems-O’Reilly Media (2017).pdf'\n",
            "'Bayer Internship Feedback.gform'\n",
            "'Book a Road Test_ Confirmation.pdf'\n",
            "'Brian S. Everitt, Torsten Hothorn - A handbook of statistical analyses using R-Chapman & Hall_CRC (2006).pdf'\n",
            "'Calculus One and Several Variables (10th edition).pdf'\n",
            " CalculusVolume3-OP_n7Nj74c.pdf\n",
            "'Colab Notebooks'\n",
            "'Copy of Geotab | Drop-in Meetings.gdoc'\n",
            "'Copy of Intel Corporation - Programmable Solutions Group | Drop-in Meetings.gdoc'\n",
            "'Copy of Qualcomm - Automotive Software.gdoc'\n",
            "'Copy of Tutorial - Python,Docker,DigitalOcean,MongoDB,Cloudflare.gslides'\n",
            "'Course Notes.pdf'\n",
            " covid19vaccine\n",
            " Crowdmark_mat232_midterm_1.pdf\n",
            " Crowdmark_mat232_midterm_2.pdf\n",
            " CSC413\n",
            " csc413a1parameters\n",
            "'Dennis D. Wackerly, William Mendenhall, Richard L. Scheaffer - Mathematical Statistics with Applications-Cengage Learning (2008).pdf'\n",
            " First_Year\n",
            "'Günther Sawitzki - Computational statistics _ an introduction to R-CRC Press (2009).pdf'\n",
            " High_School_Material\n",
            "'Internship Resources.gdoc'\n",
            "'Irwin Miller, Marylees Miller - John E. Freund'\\''s Mathematical Statistics with Applications-Pearson (2014).pdf'\n",
            " jira_confluence_orientation.rtf.gdoc\n",
            "'Joel Grus - Data Science from Scratch_ First Principles with Python-O'\\''Reilly Media (2015).pdf'\n",
            " Mathematical-Statistics-and-Data-Analysis-3ed-Duxbury-Advanced-.pdf\n",
            " new_grad_job_applications\n",
            " PEY_Session_Coursework\n",
            "'Practice Tests'\n",
            " Second_Year\n",
            " section2:what_is_data_science\n",
            " section3:data_preparation\n",
            "'term test 6'\n",
            " Udemy_Certificates\n",
            "'University Applications'\n",
            "'Untitled Jam.gjam'\n",
            "mkdir: cannot create directory ‘/content/gdrive/My Drive/CSC413’: File exists\n"
          ]
        }
      ],
      "source": [
        "!ls /content/gdrive/My\\ Drive/\n",
        "!mkdir /content/gdrive/My\\ Drive/CSC413"
      ]
    },
    {
      "cell_type": "markdown",
      "metadata": {
        "id": "4PcyY7SmikuF"
      },
      "source": [
        "The following code reads the sentences in our file, split each sentence into\n",
        "its individual words, and stores the sentences (list of words) in the\n",
        "variable `sentences`."
      ]
    },
    {
      "cell_type": "code",
      "execution_count": null,
      "metadata": {
        "id": "u9hyqPUAikuK"
      },
      "outputs": [],
      "source": [
        "sentences = []\n",
        "for line in open(file_path):\n",
        "    words = line.split()\n",
        "    sentence = [word.lower() for word in words]\n",
        "    sentences.append(sentence)"
      ]
    },
    {
      "cell_type": "markdown",
      "metadata": {
        "id": "xWSnR6wGikuM"
      },
      "source": [
        "There are 97,162 sentences in total, and \n",
        "these sentences are composed of 250 distinct words."
      ]
    },
    {
      "cell_type": "code",
      "execution_count": null,
      "metadata": {
        "colab": {
          "base_uri": "https://localhost:8080/"
        },
        "id": "Cz8M19soikuP",
        "outputId": "52f6b6f3-c373-4e3d-895e-1591e7442ea0"
      },
      "outputs": [
        {
          "output_type": "stream",
          "name": "stdout",
          "text": [
            "97162\n",
            "250\n"
          ]
        }
      ],
      "source": [
        "vocab = set([w for s in sentences for w in s])\n",
        "print(len(sentences)) # 97162\n",
        "print(len(vocab)) # 250"
      ]
    },
    {
      "cell_type": "markdown",
      "metadata": {
        "id": "0wRWUbDZikuR"
      },
      "source": [
        "We'll separate our data into training, validation, and test.\n",
        "We'll use 10,000 sentences for test, 10,000 for validation, and\n",
        "the rest for training."
      ]
    },
    {
      "cell_type": "code",
      "execution_count": null,
      "metadata": {
        "id": "R-7mxGuCikuS"
      },
      "outputs": [],
      "source": [
        "test, valid, train = sentences[:10000], sentences[10000:20000], sentences[20000:]"
      ]
    },
    {
      "cell_type": "markdown",
      "metadata": {
        "id": "qONLiAVTikuT"
      },
      "source": [
        "### Part (a) -- 2 pts\n",
        "\n",
        "To get an understanding of the data set that we are working with,\n",
        "start by printing 10 sentences in the training set.\n",
        "\n",
        "Explain how punctuations are treated in our word representation, and how words\n",
        "with apostrophes are represented.\n",
        "\n",
        "(Note that for questions like this, you'll need to supply both your code **and**\n",
        "the output of your code to earn full credit.)"
      ]
    },
    {
      "cell_type": "code",
      "execution_count": null,
      "metadata": {
        "colab": {
          "base_uri": "https://localhost:8080/"
        },
        "id": "O832noO-ikuV",
        "outputId": "d5933f53-c01b-4a7c-d2e4-83cf11038f12"
      },
      "outputs": [
        {
          "output_type": "stream",
          "name": "stdout",
          "text": [
            "[['but', 'for', 'me', ',', 'now', ',', 'this', 'is', 'it', '.'], ['she', \"'s\", 'still', 'there', 'for', 'us', '.'], ['it', \"'s\", 'part', 'of', 'this', 'game', ',', 'man', '.'], ['it', 'was', ':', 'how', 'do', 'we', 'get', 'there', '?'], ['but', 'they', 'do', 'nt', 'last', 'too', 'long', '.'], ['more', 'are', 'like', 'me', ',', 'she', 'said', '.'], ['who', 'do', 'you', 'think', 'they', 'want', 'to', 'be', 'like', '?'], ['no', ',', 'he', 'could', 'not', '.'], ['so', 'i', 'left', 'it', 'up', 'to', 'them', '.'], ['we', 'were', 'nt', 'right', '.']]\n"
          ]
        }
      ],
      "source": [
        "print(train[10:20])"
      ]
    },
    {
      "cell_type": "markdown",
      "source": [
        "Punctuations are treated as seperate words and words with apostrophes are also treated as seperate words (ex. she's is represented as \"she\", \"'s\") "
      ],
      "metadata": {
        "id": "Z8PqC7DAkgOY"
      }
    },
    {
      "cell_type": "markdown",
      "metadata": {
        "id": "5wLB9UaUikuW"
      },
      "source": [
        "### Part (b) -- 4 pts\n",
        "\n",
        "Before building models, it is important to understand the data that we\n",
        "work with, and the *distributional properties* of the data. In other words,\n",
        "answer the following questions:\n",
        "\n",
        "- How long is the average sentence in the training set?\n",
        "- How many unique words are there in the training set?\n",
        "- What are the 10 most common words in the training set?\n",
        "- How many total words are there in the training set? \n",
        "- How often does each of these words appear in the training sentences? Express this quantity as a percentage of total number of words in the training set.\n",
        "\n",
        "You might find Python's `collections.Counter` class helpful."
      ]
    },
    {
      "cell_type": "code",
      "execution_count": null,
      "metadata": {
        "colab": {
          "base_uri": "https://localhost:8080/"
        },
        "id": "YI6ENqZXikuX",
        "outputId": "c92f70b8-35e4-400c-9b8a-7e2937280e61"
      },
      "outputs": [
        {
          "output_type": "stream",
          "name": "stdout",
          "text": [
            "Average Sentence Length:  7.790713045281356\n",
            "Unique Words:  250\n",
            "10 most common words:  [('.', 64297), ('it', 23118), (',', 19537), ('i', 17684), ('do', 16181), ('to', 15490), ('nt', 13009), ('?', 12881), ('the', 12583), (\"'s\", 12552)]\n",
            "Total words:  601147\n",
            "Word occurence (as percentage):  {'last': 0.18132004318411304, 'night': 0.08566956168790661, ',': 3.2499538382458866, 'he': 2.0281229050465193, 'said': 1.4089731796049885, 'did': 1.1093792366925228, 'it': 3.8456484021379134, 'for': 0.6865209341475547, 'me': 0.414540869371385, '.': 10.695720015237537, 'on': 0.34750235799230467, 'what': 1.506952542389798, 'can': 0.6055091350368546, 'i': 2.9417097648328947, 'do': 2.6916877236349843, '?': 2.1427371341784953, 'now': 0.5878761767088583, 'where': 0.3406820627899665, 'does': 0.35398995586769955, 'go': 0.5917021959687064, 'the': 2.0931652324639396, 'court': 0.026948483482409462, 'but': 1.2627527044133964, 'at': 0.2553451984290032, 'same': 0.13374432543121734, 'time': 0.5875434793819149, 'we': 1.6515095309466736, 'have': 1.0769412473155484, 'a': 0.9295563314796548, 'long': 0.23072559623519706, 'way': 0.5220021059740796, 'to': 2.576740797176065, 'that': 2.0851804966173, 'was': 1.1283429843282924, 'only': 0.17882481323203808, 'this': 1.061304472949212, 'team': 0.13590685805634894, 'will': 0.47725431550020214, 'be': 0.8713342992645725, 'back': 0.27830131398809277, 'so': 0.546455359504414, 'is': 1.6270562774163393, 'right': 0.4098831067941785, 'know': 1.1536279811759853, 'they': 1.4132982448552518, 'are': 1.0847596344987167, 'three': 0.10047459273688465, 'she': 0.6979989919270994, \"'s\": 2.0880084238963184, 'still': 0.22091102509036892, 'there': 0.9510153090674992, 'us': 0.24486523263028845, 'part': 0.15536965168253355, 'of': 0.7816723696533461, 'game': 0.23887668074530855, 'man': 0.11195265051642943, ':': 0.1116199531894861, 'how': 0.5462890108409424, 'get': 0.5379715776673591, 'nt': 2.164029763102868, 'too': 0.25118648184221165, 'more': 0.36147564572392443, 'like': 0.5971917018632713, 'who': 0.2753070380456028, 'you': 1.6911005128529295, 'think': 0.6557464314052969, 'want': 0.7825041129707043, 'no': 0.4641127710859407, 'could': 0.3935809377739554, 'not': 1.3023436863196522, 'left': 0.10995646655476946, 'up': 0.20344441542584427, 'them': 0.42219290789108155, 'were': 0.24054016738002518, 'good': 0.5216694086471362, 'about': 0.44581441810405775, 'going': 0.6028475564213079, 'make': 0.20244632344501426, 'one': 0.5690787777365602, 'those': 0.07019913598504193, 'many': 0.1618572495579284, 'then': 0.23022655024478206, 'music': 0.05822203221508217, 'never': 0.2605020069966248, 'house': 0.07918196381251175, 'people': 0.4804149401061637, 'and': 1.2186703085934056, 'every': 0.10696219061227953, 'place': 0.15670044099030686, 'new': 0.22440434702327383, 'york': 0.13374432543121734, 'today': 0.12875386552706744, 'all': 0.7879936188652693, 'says': 0.13208083879650068, 'out': 0.38093843935010907, 'school': 0.09016097560164153, 'in': 0.6131611735565511, 'case': 0.10762758526616618, 'world': 0.10746123660269452, 'if': 0.33918492481872153, 'might': 0.09764666545786638, 'as': 0.1967904688869777, 'well': 0.28711779315209096, 'home': 0.17366800466441654, 'see': 0.34384268739592816, 'much': 0.32105292050031026, 'than': 0.08633495634179328, 'any': 0.13607320671982062, 'work': 0.4419883988442095, 'some': 0.1638534335195884, 'money': 0.29244095038318413, 'first': 0.1565340923268352, 'just': 0.6559127800687685, 'over': 0.2029453694354293, 'should': 0.26399532892952976, 'play': 0.2932726937005425, 'or': 0.18747494373256457, 'been': 0.27430894606477285, 'had': 0.3235481504523852, 'my': 0.2809628926036394, 'business': 0.166515012135135, 'here': 0.44049126087296453, 'best': 0.18664320041520627, 'both': 0.06238074880187375, 'days': 0.08467146970707663, 'say': 0.40389455490919857, 'when': 0.15137728375921364, 'come': 0.3716229141956959, 'children': 0.12459514894027585, 'another': 0.09332160020760313, 'has': 0.23588240480281863, 'down': 0.09797936278480972, 'these': 0.07984735846639841, 'women': 0.04774206641636738, 'our': 0.1407309692970272, 'show': 0.11877294571876762, 'own': 0.10380156600631793, 'years': 0.1483830078167237, 'her': 0.1197710376995976, 'made': 0.10696219061227953, 'few': 0.05572680226300722, 'may': 0.13989922597966886, 'five': 0.05788933488813884, 'political': 0.0149713797124497, 'even': 0.13274623345038733, 'would': 0.4601204031626208, 'him': 0.2623318422948131, 'also': 0.04740936908942405, 'less': 0.04042272522361419, 'an': 0.02528499684769283, 'american': 0.04108811987750084, 'which': 0.05256617765704561, 'old': 0.07652038519696513, 'take': 0.23421891816810197, 'week': 0.07968100980292674, 'four': 0.05838838087855383, 'put': 0.09548413283273476, 'used': 0.10280347402548795, 'their': 0.08566956168790661, 'with': 0.27514068938213115, 'family': 0.12193357032472922, 'without': 0.03742844928112425, 'city': 0.07518959588919183, 'state': 0.036097659973350946, 'president': 0.06637311672519366, 'united': 0.042252560521802485, 'states': 0.045080487800820766, 'year': 0.2368804967836486, 'other': 0.15620139499989188, 'times': 0.07003278732157027, 'around': 0.08367337772624667, 'off': 0.07252801727364522, 'season': 0.06470963009047703, 'program': 0.023288812886032868, 'because': 0.09531778416926309, 'from': 0.132413536123444, 'government': 0.04724302042595239, ';': 0.03210529205003103, 'director': 0.011644406443016434, 'life': 0.21492247320538904, 'very': 0.149214751134082, 'public': 0.030441805415314393, 'two': 0.1252605435941625, 'high': 0.033269732694332664, 'companies': 0.01447233372203471, 'use': 0.0648759787539487, 'day': 0.2646607235834164, 'next': 0.12110182700737092, 'country': 0.07568864187960682, 'since': 0.020128188280071263, 'through': 0.057556637561195514, 'ago': 0.051401737012743975, 'into': 0.038592889925425894, 'such': 0.020128188280071263, 'big': 0.13191449013302903, 'after': 0.10779393392963785, 'though': 0.04774206641636738, 'until': 0.028279272790182764, 'second': 0.04957190171455567, 'against': 0.04424874448346244, 'war': 0.08949558094775488, 'police': 0.033436081357804334, 'white': 0.0299427594248994, '--': 0.043916047156519124, 'several': 0.011810755106488097, 'found': 0.062214400138402084, 'each': 0.05106903968580065, '$': 0.0008317433173583166, 'set': 0.028611970117126097, 'yesterday': 0.03243798937697435, 'your': 0.09864475743869637, 'john': 0.012143452433431423, 'group': 0.015969471693279683, 'west': 0.010812663125658118, 'between': 0.007818387183168176, 'most': 0.08566956168790661, 'called': 0.06820295202338197, 'end': 0.1357405093928773, 'being': 0.031938943386559365, 'under': 0.00748568985622485, 'before': 0.07219531994670189, 'company': 0.03925828457931255, 'market': 0.03742844928112425, 'by': 0.04774206641636738, 'his': 0.12675768156540745, 'while': 0.035598613982935956, 'during': 0.008816479163998157, 'federal': 0.006487597875394871, 'law': 0.044415093146934106, '-': 0.008816479163998157, 'little': 0.08250893708194501, 'department': 0.00898282782746982, 'officials': 0.007319341192753187, 'center': 0.012309801096903087, 'office': 0.02794657546323944, 'former': 0.0024952299520749504, 'its': 0.019961839616599603, 'members': 0.011145360452601442, 'street': 0.02395420753991952, ')': 0.0036596705963765934, 'million': 0.010812663125658118, 'mr.': 0.006154900548451543, 'university': 0.006154900548451543, 'dr.': 0.0006653946538866533, 'among': 0.005655854558036554, 'general': 0.00698664386580986, 'national': 0.00349332193290493, 'ms.': 0.0016634866347166332, 'percent': 0.00033269732694332665, 'including': 0.00016634866347166332}\n"
          ]
        }
      ],
      "source": [
        "from collections import Counter\n",
        "# Average sentence length\n",
        "sentence_length = sum([sum([len(s)]) for s in train])\n",
        "print(\"Average Sentence Length: \", sentence_length/len(train))\n",
        "# Unique Words \n",
        "vocab = set(w for s in train for w in s)\n",
        "print(\"Unique Words: \", len(vocab))\n",
        "# 10 most common words \n",
        "print(\"10 most common words: \", Counter([w for s in train for w in s]).most_common(10))\n",
        "# Total words in training set\n",
        "print(\"Total words: \", sum(Counter([w for s in train for w in s]).values()))\n",
        "# How often each word appears in the training sentences\n",
        "# Store total word count in variable\n",
        "total_words = sum(Counter([w for s in train for w in s]).values())\n",
        "dct = {w: (count / total_words)*100 for w, count in Counter([w for s in train for w in s]).items()}\n",
        "print(\"Word occurence (as percentage): \", dct)\n"
      ]
    },
    {
      "cell_type": "markdown",
      "metadata": {
        "id": "GI79Lm4zikuZ"
      },
      "source": [
        "### Part (c) -- 2 pts\n",
        "\n",
        "You should see that the most common word appears quite frequently (>10% of the words).\n",
        "Why do you think information is useful to know? (Hint: Suppose we build a baseline model\n",
        "that simply returns the most common word as the prediction for what the next word should\n",
        "be. What would be the accuracy of this model?)\n",
        "\n",
        "**Answer:** The most common \"word\" using this analysis is \".\" , which if were to build a baseline model using this as the most common word, the accuracy of this model would be 0. Presumably, we want to return an actual word with our neural network, not end the sentence. \n",
        "\n",
        "### Part (d) -- 4 pts\n",
        "\n",
        "We will use a one-hot encoding for words. Alternatively,\n",
        "you can think of what we're doing as assigning each word to a unique integer index.\n",
        "We will need some functions that converts sentences into the corresponding\n",
        "word indices.\n",
        "\n",
        "Complete the helper functions `convert_words_to_indices` and\n",
        "`generate_4grams`, so that the function `process_data` will take a \n",
        "list of sentences (i.e. list of list of words), and generate an \n",
        "$N \\times 4$ numpy matrix containing indices of 4 words that appear\n",
        "next to each other. You can use the constants `vocab`, `vocab_itos`,\n",
        "and `vocab_stoi` in your code."
      ]
    },
    {
      "cell_type": "code",
      "execution_count": null,
      "metadata": {
        "id": "sjFM09gQikuc"
      },
      "outputs": [],
      "source": [
        "# A list of all the words in the data set. We will assign a unique \n",
        "# identifier for each of these words.\n",
        "vocab = sorted(list(set([w for s in train for w in s])))\n",
        "# A mapping of index => word (string)\n",
        "vocab_itos = dict(enumerate(vocab))\n",
        "# A mapping of word => its index\n",
        "vocab_stoi = {word:index for index, word in vocab_itos.items()}\n",
        "\n",
        "def convert_words_to_indices(sents):\n",
        "    \"\"\"\n",
        "    This function takes a list of sentences (list of list of words)\n",
        "    and returns a new list with the same structure, but where each word\n",
        "    is replaced by its index in `vocab_stoi`.\n",
        "\n",
        "    Example:\n",
        "    >>> convert_words_to_indices([['one', 'in', 'five', 'are', 'over', 'here'],\n",
        "                                  ['other', 'one', 'since', 'yesterday'],\n",
        "                                  ['you']])\n",
        "    [[148, 98, 70, 23, 154, 89], [151, 148, 181, 246], [248]]\n",
        "    \"\"\"\n",
        "    def conv_sent_to_indices(sent):\n",
        "      return [vocab_stoi[w] for w in sent]\n",
        "\n",
        "    return [conv_sent_to_indices(s) for s in sents]\n",
        "\n",
        "\n",
        "def generate_4grams(seqs):\n",
        "    \"\"\"\n",
        "    This function takes a list of sentences (list of lists) and returns\n",
        "    a new list containing the 4-grams (four consequentively occuring words)\n",
        "    that appear in the sentences. Note that a unique 4-gram can appear multiple\n",
        "    times, one per each time that the 4-gram appears in the data parameter `seqs`.\n",
        "\n",
        "    Example:\n",
        "\n",
        "    >>> generate_4grams([[148, 98, 70, 23, 154, 89], [151, 148, 181, 246], [248]])\n",
        "    [[148, 98, 70, 23], [98, 70, 23, 154], [70, 23, 154, 89], [151, 148, 181, 246]]\n",
        "    >>> generate_4grams([[1, 1, 1, 1, 1]])\n",
        "    [[1, 1, 1, 1], [1, 1, 1, 1]]\n",
        "    \"\"\"\n",
        "    return [s[i:i+4] for s in seqs for i in range(len(s) - 3)]\n",
        " \n",
        "\n",
        "def process_data(sents):\n",
        "    \"\"\"\n",
        "    This function takes a list of sentences (list of lists), and generates an\n",
        "    numpy matrix with shape [N, 4] containing indices of words in 4-grams.\n",
        "    \"\"\"\n",
        "    indices = convert_words_to_indices(sents)\n",
        "    fourgrams = generate_4grams(indices)\n",
        "    return np.array(fourgrams)\n",
        "\n",
        "train4grams = process_data(train)\n",
        "valid4grams = process_data(valid)\n",
        "test4grams = process_data(test)"
      ]
    },
    {
      "cell_type": "markdown",
      "metadata": {
        "id": "K2rOwLrHikuf"
      },
      "source": [
        "## Question 2. Background math\n",
        "\n",
        "As we mentioned earlier, we would like to build a neural network that predicts\n",
        "the next word in a sentence, given the previous three words. In this part of\n",
        "the assignment, we will write out our model mathematically. We will also\n",
        "compute, by hand, the derivatives we need to train our neural network.\n",
        "\n",
        "### Part (a) -- 2 pts\n",
        "\n",
        "Suppose we were to use a 2-layer multilayer perceptron to solve this prediction\n",
        "problem. Our model will look like this:\n",
        "\n",
        "<img src=\"https://www.cs.toronto.edu/~lczhang/321/hw/p2_model1.png\" />\n",
        "\n",
        "\\begin{align*}\n",
        "\\bf{x} &= \\text{concatenation of the one-hot vector for words 1, 2 and 3} \\\\\n",
        "\\bf{m} &= \\bf{W^{(1)}} \\bf{x} + \\bf{b^{(1)}} \\\\\n",
        "\\bf{h} &= \\textrm{ReLU}(\\bf{m}) \\\\\n",
        "\\bf{z} &= \\bf{W^{(2)}} \\bf{h} + \\bf{b^{(2)}} \\\\\n",
        "\\bf{y} &= \\textrm{softmax}(\\bf{z}) \\\\\n",
        "L &= \\mathcal{L}_\\textrm{Cross-Entropy}(\\bf{y}, \\bf{t}) \\\\\n",
        "\\end{align*}\n",
        "\n",
        "In the next few parts of this question, we will review the math required to\n",
        "train this model by gradient descent.\n",
        "\n",
        "What should be the shape of the input vector $\\bf{x}$?\n",
        "What should be the shape of the output vector $\\bf{y}$?\n",
        "What should be the shape of the target vector $\\bf{t}$?\n",
        "Let $k$ represent the size of the hidden layer.\n",
        "What are the dimension of $W^{(1)}$ and $W^{(2)}$?\n",
        "What about $b^{(1)}$ and $b^{(2)}$?"
      ]
    },
    {
      "cell_type": "code",
      "execution_count": null,
      "metadata": {
        "id": "KoZSl2dJikug"
      },
      "outputs": [],
      "source": [
        "# Let v = total number of words in the training set \n",
        "\n",
        "# Shape of input vector x = (3v, 1)\n",
        "# Shape of output vector y = (v, 1)\n",
        "# Shape of target vector t = (v, 1)\n",
        "\n",
        "# Dimension of W^(1) = k * 3v\n",
        "# Dimension of b^(1) = k * 1\n",
        "\n",
        "# Dimension of W^(2) = v * k\n",
        "# Dimension of b^(2) = v * 1\n"
      ]
    },
    {
      "cell_type": "markdown",
      "metadata": {
        "id": "9dELBn6Iikuh"
      },
      "source": [
        "### Part (b) -- 2 pts\n",
        "\n",
        "We will use gradient descent to optimize the quantities \n",
        "$W^{(1)}$, $W^{(2)}$, $b^{(1)}$ and $b^{(2)}$. In other words,\n",
        "we will need to compute \n",
        "$\\frac{\\partial L}{\\partial W^{(1)}}$,\n",
        "$\\frac{\\partial L}{\\partial W^{(2)}}$,\n",
        "$\\frac{\\partial L}{\\partial b^{(1)}}$, and\n",
        "$\\frac{\\partial L}{\\partial b^{(2)}}$.\n",
        "\n",
        "To do so, we will need to use the backpropagation algorithm.\n",
        "Thus, it is helpful to start by drawing a computation graph.\n",
        "\n",
        "Draw a computation graph for our model, with matrix addition, multiplication,\n",
        "and `softmax` and `ReLU` activations as primitive operations.\n",
        "Your graph should include\n",
        "the quantities $\\bf{W^{(1)}}$, $\\bf{W^{(2)}}$, $\\bf{b^{(1)}}$, $\\bf{b^{(2)}}$,\n",
        "$\\bf{x}$, $\\bf{m}$, $\\bf{h}$, $\\bf{z}$, $\\bf{y}$, $\\bf{t}$, and $L$."
      ]
    },
    {
      "cell_type": "code",
      "execution_count": null,
      "metadata": {
        "id": "YU1T9Uvqikui"
      },
      "outputs": [],
      "source": [
        "# Done on OneNote - Attached at end of assignment"
      ]
    },
    {
      "cell_type": "markdown",
      "metadata": {
        "id": "gJAWBmxIikuj"
      },
      "source": [
        "### Part (c) -- 3 pts\n",
        "\n",
        "Using your result from part (b), \n",
        "derive the gradient descent update rule for ${\\bf W}^{(2)}$.\n",
        "You should begin by deriving the update rule for $W^{(2)}_{ij}$,\n",
        "and then vectorize your answer. \n",
        "\n",
        "### Part (d) -- 1 pts\n",
        "\n",
        "Derive the gradient descent update rule for ${\\bf b}^{(2)}$.\n",
        "\n",
        "### Part (e) -- 3 pts\n",
        "\n",
        "Derive the gradient descent update rule for ${\\bf W}^{(1)}$ and \n",
        " ${\\bf b}^{(1)}$.\n",
        "\n",
        "### Part (f) -- 2 pts\n",
        "\n",
        "From this point onward, we will modify our architecture to introduce **weight sharing**.\n",
        "In particular, the input $\\bf{x}$ consists of three one-hot vectors concatenated\n",
        "together. We can think of $\\bf{h}$ as a representation of those three words\n",
        "(all together). However, $\\bf{W^{(1)}}$ needs to learn about the first word\n",
        "separately from the second and third word, when some of the information could\n",
        "be shared. Consider the following architecture:\n",
        "\n",
        "<img src=\"https://www.cs.toronto.edu/~lczhang/321/hw/p2_model2.png\" />\n",
        "\n",
        "Here, we add an extra *embedding* layer to the neural network, where we compute\n",
        "the representation of **each** word before concatenating them together! We use\n",
        "the same weight $\\bf{W}^{(word)}$ for each of the three words:\n",
        "\n",
        "\\begin{align*}\n",
        "\\bf{x_a} &= \\textrm{the one-hot vector for word 1} \\\\\n",
        "\\bf{x_b} &= \\textrm{the one-hot vector for word 2} \\\\\n",
        "\\bf{x_c} &= \\textrm{the one-hot vector for word 3} \\\\\n",
        "\\bf{v_a} &= \\bf{W}^{(word)} \\bf{x_a} \\\\\n",
        "\\bf{v_b} &= \\bf{W}^{(word)} \\bf{x_b} \\\\\n",
        "\\bf{v_c} &= \\bf{W}^{(word)} \\bf{x_c} \\\\\n",
        "\\bf{v} &= \\textrm{concatenation of } \\bf{v_a}, \\bf{v_b}, \\bf{v_c} \\\\\n",
        "\\bf{m} &= \\bf{W^{(1)}} \\bf{v} + \\bf{b^{(1)}} \\\\\n",
        "\\bf{h} &= \\textrm{ReLU}(\\bf{m}) \\\\\n",
        "\\bf{z} &= \\bf{W^{(2)}} \\bf{h} + \\bf{b^{(2)}} \\\\\n",
        "\\bf{y} &= \\textrm{softmax}(\\bf{z}) \\\\\n",
        "L &= \\mathcal{L}_\\textrm{Cross-Entropy}(\\bf{y}, \\bf{t}) \\\\\n",
        "\\end{align*}\n",
        "\n",
        "Note that there are no biases in the embedding layer.\n",
        "\n",
        "In the next few parts of this question, we will derive the math required to\n",
        "train this model by gradient descent. You will use your result in this\n",
        "question in Question 3.\n",
        "\n",
        "As in the earlier parts of this question, begin by writing out\n",
        "the **shape** of each of the above quantities.\n",
        "\n",
        "### Part (g) -- 1 pts\n",
        "\n",
        "We will use gradient descent to optimize the quantities \n",
        "$W^{(word)}$, $W^{(1)}$, $W^{(2)}$, $b^{(1)}$ and $b^{(2)}$. In other words,\n",
        "we will need to compute \n",
        "$\\frac{\\partial L}{\\partial W^{(word)}}$,\n",
        "$\\frac{\\partial L}{\\partial W^{(1)}}$,\n",
        "$\\frac{\\partial L}{\\partial W^{(2)}}$,\n",
        "$\\frac{\\partial L}{\\partial b^{(1)}}$, and\n",
        "$\\frac{\\partial L}{\\partial b^{(2)}}$.\n",
        "\n",
        "Like in Part (b), we start by drawing a computation graph.\n",
        "Your computation graph should include\n",
        "the quantities $\\bf{W}^{(word)}$, $\\bf{W^{(1)}}$, $\\bf{W^{(2)}}$,\n",
        "$\\bf{b^{(1)}}$, $\\bf{b^{(2)}}$,\n",
        "$\\bf{x_a}$,$\\bf{x_b}$, $\\bf{x_c}$,\n",
        "$\\bf{v_a}$,$\\bf{v_b}$, $\\bf{v_c}$, $\\bf{v}$,\n",
        "$\\bf{m}$, $\\bf{h}$, $\\bf{z}$, $\\bf{y}$, $\\bf{t}$, and $L$.\n",
        "\n",
        "Consider how this computation graph  might be similar or \n",
        "different from the one you drew in Part (b)."
      ]
    },
    {
      "cell_type": "code",
      "execution_count": null,
      "metadata": {
        "id": "a1OJSvBlikuk"
      },
      "outputs": [],
      "source": [
        "# Part 2.(f)\n",
        "# Let v = total number of words in the training set \n",
        "# Let k = size of hidden layer\n",
        "# Let e = embedding size \n",
        "\n",
        "# Shape of input vector v = (3v, 1)\n",
        "# Shape of W^word = (v*k)\n",
        "# Shape of W^1 = k * (3 * e)\n",
        "# v_a = 1 * emb_size\n",
        "# v_b = 1 * emb_size\n",
        "# v_c = 1 * emb_size \n",
        "\n",
        "# Remaining values have the same shapes as was derived in part (a)\n",
        "\n",
        "#2.(g) Computation graph done on OneNote - Attached at end of assignment"
      ]
    },
    {
      "cell_type": "markdown",
      "metadata": {
        "id": "bhZzSwMQikul"
      },
      "source": [
        "### Part (h) -- 1 pts\n",
        "\n",
        "Argue that the gradient descent update rule for ${\\bf W}^{(2)}$,\n",
        "${\\bf b}^{(2)}$, ${\\bf W}^{(1)}$, and\n",
        "${\\bf b}^{(1)}$, in part (f-g) is identical to your result from parts (c-e).\n",
        "\n",
        "### Part (i) -- 3 pts\n",
        "\n",
        "Derive the gradient descent update rule for ${\\bf W}^{(word)}$.\n",
        "\n",
        "In particular, how would you backpropagate through the concatenation operation?\n",
        "\n",
        "Hint: Consider the *scalar* quantities involved in the computation, and the\n",
        "answer to this question will be straightforward."
      ]
    },
    {
      "cell_type": "code",
      "execution_count": null,
      "metadata": {
        "id": "VrfDePjqikum"
      },
      "outputs": [],
      "source": [
        "# 2.(h) They are identical since we can see from our new computation graph, their positions in the topological ordering of the nodes has not changed, and their\n",
        "# inputs and outputs have not changed. Thus, they will have the same gradient descent update rule. \n",
        "# 2.(i) Done on OneNote - Attached at end of assignment"
      ]
    },
    {
      "cell_type": "markdown",
      "metadata": {
        "id": "F2YZboOTikum"
      },
      "source": [
        "## Question 3. Building the Neural Network in NumPy\n",
        "\n",
        "In this question, we will implement the model from Question 2(f)\n",
        "using NumPy.  Start by reviewing these helper functions,\n",
        "which are given to you:"
      ]
    },
    {
      "cell_type": "code",
      "execution_count": null,
      "metadata": {
        "id": "xFxe6rLGikum"
      },
      "outputs": [],
      "source": [
        "def make_onehot(indicies, total=250):\n",
        "    \"\"\"\n",
        "    Convert indicies into one-hot vectors by\n",
        "        1. Creating an identity matrix of shape [total, total]\n",
        "        2. Indexing the appropriate columns of that identity matrix\n",
        "    \"\"\"\n",
        "    I = np.eye(total)\n",
        "    return I[indicies]\n",
        "\n",
        "def softmax(x):\n",
        "    \"\"\"\n",
        "    Compute the softmax of vector x, or row-wise for a matrix x.\n",
        "    We subtract x.max(axis=0) from each row for numerical stability.\n",
        "    \"\"\"\n",
        "    x = x.T\n",
        "    exps = np.exp(x - x.max(axis=0))\n",
        "    probs = exps / np.sum(exps, axis=0)\n",
        "    return probs.T\n",
        "\n",
        "def get_batch(data, range_min, range_max, onehot=True):\n",
        "    \"\"\"\n",
        "    Convert one batch of data in the form of 4-grams into input and output\n",
        "    data and return the training data (xs, ts) where:\n",
        "     - `xs` is an numpy array of one-hot vectors of shape [batch_size, 3, 250]\n",
        "     - `ts` is either\n",
        "            - a numpy array of shape [batch_size, 250] if onehot is True,\n",
        "            - a numpy array of shape [batch_size] containing indicies otherwise\n",
        "\n",
        "    Preconditions:\n",
        "     - `data` is a numpy array of shape [N, 4] produced by a call\n",
        "        to `process_data`\n",
        "     - range_max > range_min\n",
        "    \"\"\"\n",
        "    xs = data[range_min:range_max, :3]\n",
        "    xs = make_onehot(xs)\n",
        "    ts = data[range_min:range_max, 3]\n",
        "    if onehot:\n",
        "        ts = make_onehot(ts).reshape(-1, 250)\n",
        "    return xs, ts\n",
        "\n",
        "def estimate_accuracy(model, data, batch_size=5000, max_N=100000):\n",
        "    \"\"\"\n",
        "    Estimate the accuracy of the model on the data. To reduce\n",
        "    computation time, use at most `max_N` elements of `data` to\n",
        "    produce the estimate.\n",
        "    \"\"\"\n",
        "    correct = 0\n",
        "    N = 0\n",
        "    for i in range(0, data.shape[0], batch_size):\n",
        "        xs, ts = get_batch(data, i, i + batch_size, onehot=False)\n",
        "        z = model(xs)\n",
        "        pred = np.argmax(z, axis=1)\n",
        "        correct += np.sum(ts == pred)\n",
        "        N += ts.shape[0]\n",
        "\n",
        "        if N > max_N:\n",
        "            break\n",
        "    return correct / N"
      ]
    },
    {
      "cell_type": "markdown",
      "metadata": {
        "id": "yd3BDnkXikun"
      },
      "source": [
        "### Part (a) -- 8 point\n",
        "\n",
        "Your first task is to implement the desired model in NumPy.\n",
        "We represent the model as a Python class, and will set up the \n",
        "class methods and APIs in a way similar to PyTorch.\n",
        "\n",
        "Make sure that you read the entire starter code provided for you first.\n",
        "You should know exactly how this piece of code works!\n",
        "\n",
        "to be similar to that of PyTorch, so that you\n",
        "have some intuition about what PyTorch is doing under the hood.\n",
        "Here's what you need to do:\n",
        "\n",
        "1. in the `__init__` method, initialize the weights and biases to have the correct shapes. You may want to look back at your answers in the previous question. (0 points)\n",
        "2. complete the `forward` method to compute the predictions given a **batch** of inputs. This function will also store the intermediate values obtained in the computation; we will need these values for gradient descent. (3 points)\n",
        "3. complete the `backward` method to compute the gradients of the loss with respect to the weights and biases. (4 points)\n",
        "4. complete the `update` method that uses the stored gradients to update the weights and biases. (1 point)"
      ]
    },
    {
      "cell_type": "code",
      "execution_count": null,
      "metadata": {
        "id": "8Fif4WSnikup"
      },
      "outputs": [],
      "source": [
        "class NumpyWordEmbModel(object):\n",
        "    def __init__(self, vocab_size=250, emb_size=100, num_hidden=100):\n",
        "        \"\"\"\n",
        "        Initialize the weights and biases to zero. Update this method\n",
        "        so that weights and baises have the correct shape.\n",
        "        \"\"\"\n",
        "        self.vocab_size = vocab_size\n",
        "        self.emb_size = emb_size\n",
        "        self.num_hidden = num_hidden\n",
        "        self.emb_weights = np.zeros([vocab_size, emb_size]) # W^{(word)}\n",
        "        self.weights1 = np.zeros([num_hidden, 3*emb_size])    # W^{(1)}\n",
        "        self.bias1 = np.zeros([num_hidden])             # b^{(1)}\n",
        "        self.weights2 = np.zeros([vocab_size, num_hidden])    # W^{(2)}\n",
        "        self.bias2 = np.zeros([vocab_size])             # b^{(2)}\n",
        "        self.cleanup()\n",
        "\n",
        "    def initializeParams(self):\n",
        "        \"\"\"\n",
        "        Randomly initialize the weights and biases of this two-layer MLP.\n",
        "        The randomization is necessary so that each weight is updated to\n",
        "        a different value.\n",
        "\n",
        "        You do not need to change this method.\n",
        "        \"\"\"\n",
        "        self.emb_weights = np.random.normal(0, 2/self.emb_size, self.emb_weights.shape)\n",
        "        self.weights1 = np.random.normal(0, 2/self.emb_size, self.weights1.shape)\n",
        "        self.bias1 = np.random.normal(0, 2/self.emb_size, self.bias1.shape)\n",
        "        self.weights2 = np.random.normal(0, 2/self.num_hidden, self.weights2.shape)\n",
        "        self.bias2 = np.random.normal(0, 2/self.num_hidden, self.bias2.shape)\n",
        "\n",
        "    def forward(self, inputs):\n",
        "        \"\"\"\n",
        "        Compute the forward pass prediction for inputs.\n",
        "\n",
        "        Note that for vectorization, `inputs` will be a rank-3 numpy array\n",
        "        with shape [N, 3, vocab_size], where N is the batch size.\n",
        "        The returned value will contain the predictions for the N\n",
        "        data points in the batch, so the return value shape should be\n",
        "        [N, something].\n",
        "\n",
        "        You should refer to the mathematical expressions we provided in Q3\n",
        "        when completing this method. However, because we are computing\n",
        "        forward pass for a batch of data at a time, you may need to rearrange\n",
        "        some computation (e.g. some matrix-vector multiplication will become\n",
        "        matrix-matrix multiplications, and you'll need to be careful about\n",
        "        arranging the dimensions of your matrices.)\n",
        "\n",
        "        For numerical stability reasons, we will return the **logit z**\n",
        "        instead of the **probability y**. The loss function assumes that \n",
        "        we return the logits from this function.\n",
        "\n",
        "        After writing this function, you might want to check that your code\n",
        "        runs before continuing, e.g. try\n",
        "\n",
        "            xs, ts = get_batch(train4grams, 0, 8, onehot=True)\n",
        "            m = NumpyWordEmbModel()\n",
        "            m.forward(xs)\n",
        "        \"\"\"\n",
        "        self.N = inputs.shape[0]\n",
        "        self.xa = inputs[:, 0]\n",
        "        self.xb = inputs[:, 1]\n",
        "        self.xc = inputs[:, 2]\n",
        "        self.va =  self.xa @ self.emb_weights \n",
        "        self.vb =  self.xb @ self.emb_weights \n",
        "        self.vc = self.xc @ self.emb_weights\n",
        "        self.v = np.concatenate((self.va, self.vb, self.vc), axis=1)\n",
        "        self.m = np.add((self.weights1 @ (self.v).T).T, self.bias1)        \n",
        "        self.h = np.maximum(self.m, 0)\n",
        "        self.z = np.add((self.h @ (self.weights2).T), self.bias2) \n",
        "        self.y = softmax(self.z)\n",
        "        return self.z\n",
        "\n",
        "    def __call__(self, inputs):\n",
        "        \"\"\"\n",
        "        This function is here so that if you call the object like a function,\n",
        "        the `backward` method will get called. For example, if we have\n",
        "            m = NumpyWordEmbModel()\n",
        "        Calling `m(foo)` is equivalent to calling `m.forward(foo)`.\n",
        "\n",
        "        You do not need to change this method.\n",
        "        \"\"\"\n",
        "        return self.forward(inputs)\n",
        "\n",
        "    def backward(self, ts):\n",
        "        \"\"\"\n",
        "        Compute the backward pass, given the ground-truth, one-hot targets.\n",
        "        Note that `ts` needs to be a numpy array with shape [N, vocab_size].\n",
        "\n",
        "        You might want to refer to your answers to Q2 to complete this method.\n",
        "        But be careful: we are vectorizing the backward pass computation for\n",
        "        an entire batch of data at a time! Carefully track the dimensions of\n",
        "        your quantities.\n",
        "\n",
        "        You may assume that the forward() method has already been called, so\n",
        "        you can access values like self.N, self.y, etc..\n",
        "\n",
        "        This function needs to be called before calling the update() method.\n",
        "        \"\"\"\n",
        "        z_bar = (self.y - ts) / self.N\n",
        "        self.w2_bar = z_bar.T @ self.h # todo, compute gradient for W^{(2)}\n",
        "        self.b2_bar = z_bar[0] # todo, compute gradient for b^{(2)}\n",
        "        h_bar = self.weights2.T @ z_bar.T # todo\n",
        "        m_bar = np.maximum(h_bar, 0) # todo\n",
        "        self.w1_bar = m_bar @ self.v  # todo\n",
        "        self.b1_bar = m_bar[:, 0]\n",
        "        \n",
        "        v_bar = m_bar.T @ self.weights1\n",
        "        va_bar = v_bar[:, :100]\n",
        "        vb_bar = v_bar[:, 100:200]\n",
        "        vc_bar = v_bar[:, 200:]\n",
        "        \n",
        "        self.emb_bar = (va_bar.T @ (self.xa) + vb_bar.T @ (self.xb) + vc_bar.T @ (self.xc)).T # todo, compute gradient for W^{(word)}\n",
        "\n",
        "    def update(self, alpha):\n",
        "        \"\"\"\n",
        "        Compute the gradient descent update for the parameters.\n",
        "        Complete this method. Use `alpha` as the learning rate.\n",
        "\n",
        "        You can assume that the forward() and backward() methods have already\n",
        "        been called, so you can access values like self.w1_bar.\n",
        "        \"\"\"\n",
        "        self.weights1 = self.weights1 - alpha * self.w1_bar\n",
        "        self.bias1 = self.bias1 - alpha * self.b1_bar\n",
        "\n",
        "        self.weights2 = self.weights2 - alpha * self.w2_bar\n",
        "        self.bias2 = self.bias2 - alpha * self.b2_bar\n",
        "\n",
        "        self.emb_weights = self.emb_weights - alpha * self.emb_bar\n",
        "\n",
        "        # todo... update the other weights/biases\n",
        "\n",
        "    def cleanup(self):\n",
        "        \"\"\"\n",
        "        Erase the values of the variables that we use in our computation.\n",
        "       \n",
        "        You do not need to change this method.\n",
        "        \"\"\"\n",
        "        self.N = None\n",
        "        self.xa = None\n",
        "        self.xb = None\n",
        "        self.xc = None\n",
        "        self.va = None\n",
        "        self.vb = None\n",
        "        self.vc = None\n",
        "        self.v = None\n",
        "        self.m = None\n",
        "        self.h = None\n",
        "        self.z = None\n",
        "        self.y = None\n",
        "        self.z_bar = None\n",
        "        self.w2_bar = None\n",
        "        self.b2_bar = None\n",
        "        self.w1_bar = None\n",
        "        self.b1_bar = None\n",
        "        self.emb_bar = None  "
      ]
    },
    {
      "cell_type": "markdown",
      "metadata": {
        "id": "4zk69nIZiku2"
      },
      "source": [
        "### Part (b) -- 2 points\n",
        "\n",
        "Now, we need to train this model so that it can perform the desired\n",
        "task of predicting the next word given the previous three.\n",
        "\n",
        "Complete the `run_gradient_descent` function. Train your numpy model\n",
        "to obtain a training accuracy of at least 25%. You do not need to train\n",
        "this model to convergence, but you do need to clearly show\n",
        "that your model reached at least 25% training accuracy.\n",
        "\n",
        "As before, make sure that you read the entire starter code provided for you.\n",
        "You should know exactly how this piece of code works!"
      ]
    },
    {
      "cell_type": "code",
      "execution_count": null,
      "metadata": {
        "id": "TN4xdSUniku3",
        "colab": {
          "base_uri": "https://localhost:8080/"
        },
        "outputId": "b604e2d0-6b9f-4bb7-ca48-19b435a87405"
      },
      "outputs": [
        {
          "output_type": "stream",
          "name": "stdout",
          "text": [
            "Iter 100. [Val Acc 17%] [Train Acc 17%, Loss 5.508186]\n",
            "Iter 200. [Val Acc 17%] [Train Acc 17%, Loss 5.494699]\n",
            "Iter 300. [Val Acc 17%] [Train Acc 17%, Loss 5.474331]\n",
            "Iter 400. [Val Acc 17%] [Train Acc 17%, Loss 5.479107]\n",
            "Iter 500. [Val Acc 17%] [Train Acc 17%, Loss 5.466680]\n",
            "Iter 600. [Val Acc 17%] [Train Acc 17%, Loss 5.444380]\n",
            "Iter 700. [Val Acc 17%] [Train Acc 17%, Loss 5.465970]\n",
            "Iter 800. [Val Acc 17%] [Train Acc 17%, Loss 5.479809]\n",
            "Iter 900. [Val Acc 17%] [Train Acc 17%, Loss 5.496710]\n",
            "Iter 1000. [Val Acc 17%] [Train Acc 17%, Loss 5.491666]\n",
            "Iter 1100. [Val Acc 17%] [Train Acc 17%, Loss 5.495738]\n",
            "Iter 1200. [Val Acc 17%] [Train Acc 17%, Loss 5.494548]\n",
            "Iter 1300. [Val Acc 17%] [Train Acc 17%, Loss 5.479460]\n",
            "Iter 1400. [Val Acc 17%] [Train Acc 17%, Loss 5.480805]\n",
            "Iter 1500. [Val Acc 17%] [Train Acc 17%, Loss 5.483644]\n",
            "Iter 1600. [Val Acc 17%] [Train Acc 17%, Loss 5.485281]\n",
            "Iter 1700. [Val Acc 17%] [Train Acc 17%, Loss 5.477414]\n",
            "Iter 1800. [Val Acc 17%] [Train Acc 17%, Loss 5.468188]\n",
            "Iter 1900. [Val Acc 17%] [Train Acc 17%, Loss 5.467821]\n",
            "Iter 2000. [Val Acc 17%] [Train Acc 17%, Loss 5.468172]\n",
            "Iter 2100. [Val Acc 17%] [Train Acc 17%, Loss 5.448498]\n",
            "Iter 2200. [Val Acc 17%] [Train Acc 17%, Loss 5.452938]\n",
            "Iter 2300. [Val Acc 17%] [Train Acc 17%, Loss 5.464233]\n",
            "Iter 2400. [Val Acc 17%] [Train Acc 17%, Loss 5.446487]\n",
            "Iter 2500. [Val Acc 17%] [Train Acc 17%, Loss 5.432978]\n",
            "Iter 2600. [Val Acc 17%] [Train Acc 17%, Loss 5.437937]\n",
            "Iter 2700. [Val Acc 17%] [Train Acc 17%, Loss 5.447658]\n",
            "Iter 2800. [Val Acc 17%] [Train Acc 17%, Loss 5.436368]\n",
            "Iter 2900. [Val Acc 17%] [Train Acc 17%, Loss 5.437053]\n",
            "Iter 3000. [Val Acc 17%] [Train Acc 17%, Loss 5.439922]\n",
            "Iter 3100. [Val Acc 17%] [Train Acc 17%, Loss 5.447787]\n",
            "Iter 3200. [Val Acc 17%] [Train Acc 17%, Loss 5.427651]\n",
            "Iter 3300. [Val Acc 17%] [Train Acc 17%, Loss 5.433875]\n",
            "Iter 3400. [Val Acc 17%] [Train Acc 17%, Loss 5.436202]\n",
            "Iter 3500. [Val Acc 17%] [Train Acc 17%, Loss 5.405542]\n",
            "Iter 3600. [Val Acc 17%] [Train Acc 17%, Loss 5.432739]\n",
            "Iter 3700. [Val Acc 17%] [Train Acc 17%, Loss 5.424009]\n",
            "Iter 3800. [Val Acc 17%] [Train Acc 17%, Loss 5.428176]\n",
            "Iter 3900. [Val Acc 17%] [Train Acc 17%, Loss 5.409326]\n",
            "Iter 4000. [Val Acc 17%] [Train Acc 17%, Loss 5.411340]\n",
            "Iter 4100. [Val Acc 17%] [Train Acc 17%, Loss 5.409244]\n",
            "Iter 4200. [Val Acc 17%] [Train Acc 17%, Loss 5.396326]\n",
            "Iter 4300. [Val Acc 17%] [Train Acc 17%, Loss 5.375552]\n",
            "Iter 4400. [Val Acc 17%] [Train Acc 17%, Loss 5.387949]\n",
            "Iter 4500. [Val Acc 17%] [Train Acc 17%, Loss 5.396285]\n",
            "Iter 4600. [Val Acc 17%] [Train Acc 17%, Loss 5.390371]\n",
            "Iter 4700. [Val Acc 17%] [Train Acc 17%, Loss 5.379971]\n",
            "Iter 4800. [Val Acc 17%] [Train Acc 17%, Loss 5.376515]\n",
            "Iter 4900. [Val Acc 17%] [Train Acc 17%, Loss 5.379886]\n",
            "Iter 5000. [Val Acc 17%] [Train Acc 17%, Loss 5.372943]\n",
            "Iter 5100. [Val Acc 17%] [Train Acc 17%, Loss 5.397370]\n",
            "Iter 5200. [Val Acc 17%] [Train Acc 17%, Loss 5.357228]\n",
            "Iter 5300. [Val Acc 17%] [Train Acc 17%, Loss 5.382656]\n",
            "Iter 5400. [Val Acc 17%] [Train Acc 17%, Loss 5.380373]\n",
            "Iter 5500. [Val Acc 17%] [Train Acc 17%, Loss 5.369231]\n",
            "Iter 5600. [Val Acc 17%] [Train Acc 17%, Loss 5.356535]\n",
            "Iter 5700. [Val Acc 17%] [Train Acc 17%, Loss 5.321764]\n",
            "Iter 5800. [Val Acc 17%] [Train Acc 17%, Loss 5.370302]\n",
            "Iter 5900. [Val Acc 17%] [Train Acc 17%, Loss 5.362996]\n",
            "Iter 6000. [Val Acc 17%] [Train Acc 17%, Loss 5.334419]\n",
            "Iter 6100. [Val Acc 17%] [Train Acc 17%, Loss 5.354223]\n",
            "Iter 6200. [Val Acc 17%] [Train Acc 17%, Loss 5.337235]\n",
            "Iter 6300. [Val Acc 17%] [Train Acc 17%, Loss 5.349573]\n",
            "Iter 6400. [Val Acc 17%] [Train Acc 17%, Loss 5.366811]\n",
            "Iter 6500. [Val Acc 17%] [Train Acc 17%, Loss 5.353694]\n",
            "Iter 6600. [Val Acc 17%] [Train Acc 17%, Loss 5.340762]\n",
            "Iter 6700. [Val Acc 17%] [Train Acc 17%, Loss 5.289390]\n",
            "Iter 6800. [Val Acc 17%] [Train Acc 17%, Loss 5.328981]\n",
            "Iter 6900. [Val Acc 17%] [Train Acc 17%, Loss 5.297556]\n",
            "Iter 7000. [Val Acc 17%] [Train Acc 17%, Loss 5.306054]\n",
            "Iter 7100. [Val Acc 17%] [Train Acc 17%, Loss 5.349228]\n",
            "Iter 7200. [Val Acc 17%] [Train Acc 17%, Loss 5.274575]\n",
            "Iter 7300. [Val Acc 17%] [Train Acc 17%, Loss 5.300668]\n",
            "Iter 7400. [Val Acc 17%] [Train Acc 17%, Loss 5.290010]\n",
            "Iter 7500. [Val Acc 17%] [Train Acc 17%, Loss 5.322095]\n",
            "Iter 7600. [Val Acc 17%] [Train Acc 17%, Loss 5.329348]\n",
            "Iter 7700. [Val Acc 17%] [Train Acc 17%, Loss 5.266870]\n",
            "Iter 7800. [Val Acc 17%] [Train Acc 17%, Loss 5.274926]\n",
            "Iter 7900. [Val Acc 17%] [Train Acc 17%, Loss 5.281124]\n",
            "Iter 8000. [Val Acc 17%] [Train Acc 17%, Loss 5.286021]\n",
            "Iter 8100. [Val Acc 17%] [Train Acc 17%, Loss 5.311244]\n",
            "Iter 8200. [Val Acc 17%] [Train Acc 17%, Loss 5.358609]\n",
            "Iter 8300. [Val Acc 17%] [Train Acc 17%, Loss 5.298901]\n",
            "Iter 8400. [Val Acc 17%] [Train Acc 17%, Loss 5.269953]\n",
            "Iter 8500. [Val Acc 17%] [Train Acc 17%, Loss 5.291067]\n",
            "Iter 8600. [Val Acc 17%] [Train Acc 17%, Loss 5.331898]\n",
            "Iter 8700. [Val Acc 17%] [Train Acc 17%, Loss 5.264865]\n",
            "Iter 8800. [Val Acc 17%] [Train Acc 17%, Loss 5.298829]\n"
          ]
        }
      ],
      "source": [
        "def run_gradient_descent(model,\n",
        "                         train_data=train4grams,\n",
        "                         validation_data=valid4grams,\n",
        "                         batch_size=250,\n",
        "                         learning_rate=0.2,\n",
        "                         max_iters=8000):\n",
        "    \"\"\"\n",
        "    Use gradient descent to train the numpy model on the dataset train4grams.\n",
        "    \"\"\"\n",
        "    n = 0\n",
        "    while n < max_iters:\n",
        "        # shuffle the training data, and break early if we don't have\n",
        "        # enough data to remaining in the batch\n",
        "        np.random.shuffle(train_data)\n",
        "        for i in range(0, train_data.shape[0], batch_size):\n",
        "            if (i + batch_size) > train_data.shape[0]:\n",
        "                break\n",
        "\n",
        "            # get the input and targets of a minibatch\n",
        "            xs, ts = get_batch(train_data, i, i + batch_size, onehot=True)\n",
        "\n",
        "            # erase any accumulated gradients\n",
        "            model.cleanup()\n",
        "\n",
        "            # TODO: add your code here\n",
        "\n",
        "            # forward pass: compute prediction\n",
        "            model.forward(xs)\n",
        "\n",
        "            # backward pass: compute error \n",
        "            model.backward(ts)\n",
        "\n",
        "            model.update(learning_rate)\n",
        "            # increment the iteration count\n",
        "            n += 1\n",
        "\n",
        "            # compute and plot the *validation* loss and accuracy\n",
        "            if (n % 100 == 0):\n",
        "                train_cost = -np.sum(ts * np.log(model.y)) / batch_size\n",
        "                train_acc = estimate_accuracy(model, train_data)\n",
        "                val_acc = estimate_accuracy(model, validation_data)\n",
        "                model.cleanup()\n",
        "                print(\"Iter %d. [Val Acc %.0f%%] [Train Acc %.0f%%, Loss %f]\" % (\n",
        "                      n, val_acc * 100, train_acc * 100, train_cost))\n",
        "\n",
        "        if n >= max_iters:\n",
        "            return\n",
        "\n",
        "\n",
        "numpy_model= NumpyWordEmbModel()\n",
        "numpy_model.initializeParams()\n",
        "run_gradient_descent(numpy_model)"
      ]
    },
    {
      "cell_type": "markdown",
      "metadata": {
        "id": "BwEJYyeviku4"
      },
      "source": [
        "### Part (c) -- 2 pts\n",
        "\n",
        "If we omit the call `numpy_model.initializeParams()`  in\n",
        "Part (b), our model weights won't actually change during training (try it!).\n",
        "Clearly explain, mathematically, why this is the case."
      ]
    },
    {
      "cell_type": "code",
      "execution_count": null,
      "metadata": {
        "id": "G51BjJ0ciku5"
      },
      "outputs": [],
      "source": [
        "# Without making this call, all of the parameters in our model is initialized to 0. This in turn means that all of the derivatives we\n",
        "# computed during the backprop step will be 0, and then during the update step, no changes will be made to the existing weights/bias values\n",
        "# since they are 0 to begin with and our update rules all have resulting values of 0.  "
      ]
    },
    {
      "cell_type": "markdown",
      "metadata": {
        "id": "NBmYD1hyiku9"
      },
      "source": [
        "### Part (d) -- 2 pts\n",
        "\n",
        "The `estimate_accuracy` function takes the continuous predictions `z`\n",
        "and turns it into a discrete prediction `pred`. Prove that for a given\n",
        "data point, `pred` is equal to 1 only if the predictive probability `y`\n",
        "is at least 0.5."
      ]
    },
    {
      "cell_type": "code",
      "source": [
        "%%shell\n",
        "jupyter nbconvert --to html /content/a1-complete.ipynb"
      ],
      "metadata": {
        "colab": {
          "base_uri": "https://localhost:8080/"
        },
        "id": "7aGRQZK28zYt",
        "outputId": "2b6e3f47-6d3c-4b7c-fd37-de31689a6eb3"
      },
      "execution_count": null,
      "outputs": [
        {
          "output_type": "stream",
          "name": "stdout",
          "text": [
            "[NbConvertApp] Converting notebook /content/a1-complete.ipynb to html\n",
            "[NbConvertApp] Writing 584617 bytes to /content/a1-complete.html\n"
          ]
        },
        {
          "output_type": "execute_result",
          "data": {
            "text/plain": [
              ""
            ]
          },
          "metadata": {},
          "execution_count": 39
        }
      ]
    },
    {
      "cell_type": "code",
      "execution_count": null,
      "metadata": {
        "id": "5vcaSoCnikvC"
      },
      "outputs": [],
      "source": [
        "#REMOVED"
      ]
    },
    {
      "cell_type": "markdown",
      "metadata": {
        "id": "WgFtJ7KDikvD"
      },
      "source": [
        "## Question 4. PyTorch\n",
        "\n",
        "Now, we will build the same model in PyTorch.\n",
        "\n",
        "### Part (a) -- 2 pts\n",
        "\n",
        "In PyTorch, we create a neural network by chaining together pre-defined\n",
        "**layers**. In this assignment, the only kind of layer we will use is an `nn.Linear`\n",
        "layer, which represents computation of the form `h = Wx + b` where `x` is the\n",
        "input, `h` is the output, and `W` and `b` are parameters.\n",
        "\n",
        "PyTorch also uses a technique called **automatic differentiation** to\n",
        "compute gradients. In other words, each of these simple **layers** (like `nn.Linear`)\n",
        "and operations (like the ReLU activation `torch.relu`) will have an associated\n",
        "`backward` method written for you. If our model uses a combination of these\n",
        "layers and operations, then a computation graph will be automatically built for\n",
        "us to apply backpropagation to compute the gradients. Thus, unlike in Question 3,\n",
        "**we do not need to manually write the `backward` method**  for our model!\n",
        "\n",
        "Complete the `__init__` and `forward` methods below.\n",
        "\n",
        "You may wish to consult the PyTorch API,\n",
        "and also lookup the `reshape` method in PyTorch."
      ]
    },
    {
      "cell_type": "code",
      "execution_count": null,
      "metadata": {
        "id": "s2rmjNxOikvF"
      },
      "outputs": [],
      "source": [
        "class PyTorchWordEmb(nn.Module):\n",
        "    def __init__(self, emb_size=100, num_hidden=300, vocab_size=250):\n",
        "        super(PyTorchWordEmb, self).__init__()\n",
        "        self.word_emb_layer = nn.Linear(vocab_size,      # num input W^(word)\n",
        "                                         emb_size,       # num output W^(word)\n",
        "                                         bias=False)\n",
        "        self.fc_layer1 = nn.Linear((3 * emb_size), # num input W^(1)\n",
        "                                   num_hidden) # num output W^(1)\n",
        "        self.fc_layer2 = nn.Linear(num_hidden, # num input W^(2)\n",
        "                                   vocab_size) # num output W^(2)\n",
        "        self.num_hidden = num_hidden\n",
        "        self.emb_size = emb_size\n",
        "\n",
        "    def forward(self, inp):\n",
        "        vs = self.word_emb_layer(inp)\n",
        "        v = torch.reshape(vs, (-1, 3*self.emb_size)) # TODO: what do you need to do here?\n",
        "        m = self.fc_layer1(v)\n",
        "        h = torch.relu(m)\n",
        "        z = self.fc_layer2(h) # TODO: what do you need to do here?\n",
        "        return z"
      ]
    },
    {
      "cell_type": "markdown",
      "metadata": {
        "id": "Agr9ar8aikvG"
      },
      "source": [
        "### Part (b) -- 2 pts\n",
        "\n",
        "The function `run_pytorch_gradient_descent` is given to you. It is similar\n",
        "to the code that you wrote fro the PyTorch model, with a few differences:\n",
        "\n",
        "1. We will use a slightly fancier optimizer called **Adam**. For this optimizer,\n",
        "   a smaller learning rate usually works better, so the default learning\n",
        "   rate is set to 0.001.\n",
        "2. Since we get weight decay for free, you are welcome to use weight decay.\n",
        "\n",
        "\n",
        "Use this function and train your PyTorch model to obtain a training\n",
        "accuracy of at least 37%.  Plot the learning curve using the `plot_learning_curve`\n",
        "function provided to you, and include your plot in your PDF submission."
      ]
    },
    {
      "cell_type": "code",
      "execution_count": null,
      "metadata": {
        "id": "T-BT7MwmikvI"
      },
      "outputs": [],
      "source": [
        "def estimate_accuracy_torch(model, data, batch_size=5000, max_N=100000):\n",
        "    \"\"\"\n",
        "    Estimate the accuracy of the model on the data. To reduce\n",
        "    computation time, use at most `max_N` elements of `data` to\n",
        "    produce the estimate.\n",
        "    \"\"\"\n",
        "    correct = 0\n",
        "    N = 0\n",
        "    for i in range(0, data.shape[0], batch_size):\n",
        "        # get a batch of data\n",
        "        xs, ts = get_batch(data, i, i + batch_size, onehot=False)\n",
        "        \n",
        "        # forward pass prediction\n",
        "        z = model(torch.Tensor(xs))\n",
        "        z = z.detach().numpy() # convert the PyTorch tensor => numpy array\n",
        "        pred = np.argmax(z, axis=1)\n",
        "        correct += np.sum(pred == ts)\n",
        "        N += ts.shape[0]\n",
        "\n",
        "        if N > max_N:\n",
        "            break\n",
        "    return correct / N\n",
        "\n",
        "def run_pytorch_gradient_descent(model,\n",
        "                                 train_data=train4grams,\n",
        "                                 validation_data=valid4grams,\n",
        "                                 batch_size=300,\n",
        "                                 learning_rate=0.001,\n",
        "                                 weight_decay=0,\n",
        "                                 max_iters=3000,\n",
        "                                 checkpoint_path=None):\n",
        "    \"\"\"\n",
        "    Train the PyTorch model on the dataset `train_data`, reporting\n",
        "    the validation accuracy on `validation_data`, for `max_iters`\n",
        "    iteration.\n",
        "\n",
        "    If you want to **checkpoint** your model weights (i.e. save the\n",
        "    model weights to Google Drive), then the parameter\n",
        "    `checkpoint_path` should be a string path with `{}` to be replaced\n",
        "    by the iteration count:\n",
        "\n",
        "    For example, calling \n",
        "\n",
        "    >>> run_pytorch_gradient_descent(model, ...,\n",
        "            checkpoint_path = '/content/gdrive/My Drive/CSC413/mlp/ckpt-{}.pk')\n",
        "\n",
        "    will save the model parameters in Google Drive every 500 iterations.\n",
        "    You will have to make sure that the path exists (i.e. you'll need to create\n",
        "    the folder CSC413, mlp, etc...). Your Google Drive will be populated with files:\n",
        "\n",
        "    - /content/gdrive/My Drive/CSC413/mlp/ckpt-500.pk\n",
        "    - /content/gdrive/My Drive/CSC413/mlp/ckpt-1000.pk\n",
        "    - ...\n",
        "\n",
        "    To load the weights at a later time, you can run:\n",
        "\n",
        "    >>> model.load_state_dict(torch.load('/content/gdrive/My Drive/CSC413/mlp/ckpt-500.pk'))\n",
        "\n",
        "    This function returns the training loss, and the training/validation accuracy,\n",
        "    which we can use to plot the learning curve.\n",
        "    \"\"\"\n",
        "    criterion = nn.CrossEntropyLoss()\n",
        "    optimizer = optim.Adam(model.parameters(),\n",
        "                           lr=learning_rate,\n",
        "                           weight_decay=weight_decay)\n",
        "\n",
        "    iters, losses = [], []\n",
        "    iters_sub, train_accs, val_accs  = [], [] ,[]\n",
        "\n",
        "    n = 0 # the number of iterations\n",
        "    while True:\n",
        "        for i in range(0, train_data.shape[0], batch_size):\n",
        "            if (i + batch_size) > train_data.shape[0]:\n",
        "                break\n",
        "          \n",
        "            # get the input and targets of a minibatch\n",
        "            xs, ts = get_batch(train_data, i, i + batch_size, onehot=False)\n",
        "\n",
        "            # convert from numpy arrays to PyTorch tensors\n",
        "            xs = torch.Tensor(xs)\n",
        "            ts = torch.Tensor(ts).long()\n",
        "\n",
        "            zs = model(xs)\n",
        "            loss = criterion(zs, ts) # compute the total loss\n",
        "            loss.backward()          # compute updates for each parameter\n",
        "            optimizer.step()         # make the updates for each parameter\n",
        "            optimizer.zero_grad()    # a clean up step for PyTorch\n",
        "\n",
        "            # save the current training information\n",
        "            iters.append(n)\n",
        "            losses.append(float(loss)/batch_size)  # compute *average* loss\n",
        "\n",
        "            if n % 500 == 0:\n",
        "                iters_sub.append(n)\n",
        "                train_cost = float(loss.detach().numpy())\n",
        "                train_acc = estimate_accuracy_torch(model, train_data)\n",
        "                train_accs.append(train_acc)\n",
        "                val_acc = estimate_accuracy_torch(model, validation_data)\n",
        "                val_accs.append(val_acc)\n",
        "                print(\"Iter %d. [Val Acc %.0f%%] [Train Acc %.0f%%, Loss %f]\" % (\n",
        "                      n, val_acc * 100, train_acc * 100, train_cost))\n",
        "\n",
        "                if (checkpoint_path is not None) and n > 0:\n",
        "                    torch.save(model.state_dict(), checkpoint_path.format(n))\n",
        "\n",
        "            # increment the iteration number\n",
        "            n += 1\n",
        "\n",
        "            if n > max_iters:\n",
        "                return iters, losses, iters_sub, train_accs, val_accs\n",
        "\n",
        "\n",
        "def plot_learning_curve(iters, losses, iters_sub, train_accs, val_accs):\n",
        "    \"\"\"\n",
        "    Plot the learning curve.\n",
        "    \"\"\"\n",
        "    plt.title(\"Learning Curve: Loss per Iteration\")\n",
        "    plt.plot(iters, losses, label=\"Train\")\n",
        "    plt.xlabel(\"Iterations\")\n",
        "    plt.ylabel(\"Loss\")\n",
        "    plt.show()\n",
        "\n",
        "    plt.title(\"Learning Curve: Accuracy per Iteration\")\n",
        "    plt.plot(iters_sub, train_accs, label=\"Train\")\n",
        "    plt.plot(iters_sub, val_accs, label=\"Validation\")\n",
        "    plt.xlabel(\"Iterations\")\n",
        "    plt.ylabel(\"Accuracy\")\n",
        "    plt.legend(loc='best')\n",
        "    plt.show()"
      ]
    },
    {
      "cell_type": "code",
      "execution_count": null,
      "metadata": {
        "id": "WUxdMUtZikvN",
        "colab": {
          "base_uri": "https://localhost:8080/",
          "height": 700
        },
        "outputId": "23935fbe-1d09-45b8-8a14-5e7bc703e716"
      },
      "outputs": [
        {
          "output_type": "stream",
          "name": "stdout",
          "text": [
            "Iter 0. [Val Acc 0%] [Train Acc 0%, Loss 5.518048]\n",
            "Iter 500. [Val Acc 30%] [Train Acc 30%, Loss 2.910467]\n",
            "Iter 1000. [Val Acc 32%] [Train Acc 33%, Loss 2.793089]\n",
            "Iter 1500. [Val Acc 34%] [Train Acc 35%, Loss 2.724765]\n",
            "Iter 2000. [Val Acc 34%] [Train Acc 35%, Loss 2.785392]\n",
            "Iter 2500. [Val Acc 35%] [Train Acc 36%, Loss 2.818171]\n",
            "Iter 3000. [Val Acc 35%] [Train Acc 36%, Loss 2.753659]\n"
          ]
        },
        {
          "output_type": "display_data",
          "data": {
            "image/png": "[encoded data removed]",
            "text/plain": [
              "<Figure size 432x288 with 1 Axes>"
            ]
          },
          "metadata": {
            "needs_background": "light"
          }
        },
        {
          "output_type": "display_data",
          "data": {
            "image/png": "[encoded data removed]",
            "text/plain": [
              "<Figure size 432x288 with 1 Axes>"
            ]
          },
          "metadata": {
            "needs_background": "light"
          }
        }
      ],
      "source": [
        "pytorch_model = PyTorchWordEmb()\n",
        "learning_curve_info = run_pytorch_gradient_descent(pytorch_model, checkpoint_path = '/content/gdrive/My Drive/csc413a1parameters/ckpt-{}.pk')\n",
        "plot_learning_curve(*learning_curve_info)"
      ]
    },
    {
      "cell_type": "markdown",
      "metadata": {
        "id": "p8pnZBldikvQ"
      },
      "source": [
        "### Part (c) -- 3 points\n",
        "\n",
        "Write a function `make_prediction` that takes as parameters\n",
        "a PyTorchWordEmb model and sentence (a list of words), and produces\n",
        "a prediction for the next word in the sentence.\n",
        "\n",
        "Start by thinking about what you need to do, step by step, taking\n",
        "care of the difference between a numpy array and a PyTorch Tensor."
      ]
    },
    {
      "cell_type": "code",
      "execution_count": null,
      "metadata": {
        "id": "y8v9fOXFikvR"
      },
      "outputs": [],
      "source": [
        "def make_prediction_torch(model, sentence, train=False):\n",
        "    \"\"\"\n",
        "    Use the model to make a prediction for the next word in the\n",
        "    sentence using the last 3 words (sentence[:-3]). You may assume\n",
        "    that len(sentence) >= 3 and that `model` is an instance of\n",
        "    PyTorchWordEmb. You might find the function torch.argmax helpful.\n",
        "\n",
        "    This function should return the next word, represented as a string.\n",
        "\n",
        "    Example call:\n",
        "    >>> make_prediction_torch(pytorch_model, ['you', 'are', 'a'])\n",
        "    \"\"\"\n",
        "    global vocab_stoi, vocab_itos\n",
        "\n",
        "    #  Write your code here\n",
        "\n",
        "    # train the model\n",
        "    if train:\n",
        "      run_pytorch_gradient_descent(model)\n",
        "\n",
        "    # input the sentence into the model\n",
        "\n",
        "    # Convert sentence to indices\n",
        "    ind_sen = [vocab_stoi[w] for w in sentence]\n",
        "\n",
        "    # Convert sentence to one hot encoding\n",
        "    one_hot_sen = make_onehot(ind_sen)\n",
        "\n",
        "    # Convert to tensor and input into model\n",
        "    out = model.forward(torch.Tensor(one_hot_sen))\n",
        "\n",
        "    # retrieve output\n",
        "\n",
        "    # Get index of word\n",
        "    word_in = torch.argmax(out).numpy()\n",
        "\n",
        "    # return the string \n",
        "    return vocab_itos[int(word_in)]\n"
      ]
    },
    {
      "cell_type": "markdown",
      "metadata": {
        "id": "GX4363UUikvS"
      },
      "source": [
        "### Part (d) -- 4 points\n",
        "\n",
        "Use your code to predict what the next word should be in each\n",
        "of the following sentences:\n",
        "\n",
        "- \"You are a\"\n",
        "- \"few companies show\"\n",
        "- \"There are no\"\n",
        "- \"yesterday i was\"\n",
        "- \"the game had\"\n",
        "- \"yesterday the federal\"\n",
        "\n",
        "Do your predictions make sense? (If all of your predictions are the same,\n",
        "train your model for more iterations, or change the hyper parameters in your\n",
        "model. You may need to do this even if your training accuracy is >=37%)\n",
        "\n",
        "One concern you might have is that our model may be \"memorizing\" information\n",
        "from the training set.  Check if each of 3-grams (the 3 words appearing next\n",
        "to each other) appear in the training set. If so, what word occurs immediately\n",
        "following those three words?"
      ]
    },
    {
      "cell_type": "code",
      "execution_count": null,
      "metadata": {
        "id": "Vhe4GcfoikvU",
        "colab": {
          "base_uri": "https://localhost:8080/"
        },
        "outputId": "6543e2ad-ae3a-4885-dbdf-3a9e186e3d5a"
      },
      "outputs": [
        {
          "output_type": "stream",
          "name": "stdout",
          "text": [
            "good\n",
            ".\n",
            "other\n",
            "nt\n",
            "a\n",
            "government\n"
          ]
        }
      ],
      "source": [
        "print(make_prediction_torch(pytorch_model, ['you', 'are', 'a']))\n",
        "print(make_prediction_torch(pytorch_model, ['few', 'companies', 'show']))\n",
        "print(make_prediction_torch(pytorch_model, ['there', 'are', 'no']))\n",
        "print(make_prediction_torch(pytorch_model, ['yesterday', 'i', 'was']))\n",
        "print(make_prediction_torch(pytorch_model, ['the', 'game', 'had']))\n",
        "print(make_prediction_torch(pytorch_model, ['yesterday', 'the', 'federal']))"
      ]
    },
    {
      "cell_type": "markdown",
      "metadata": {
        "id": "aGzvp7A6ikvV"
      },
      "source": [
        "### Part (3) -- 1 points\n",
        "\n",
        "Report the test accuracy of your model. The test accuracy is the percentage\n",
        "of correct predictions across your test set."
      ]
    },
    {
      "cell_type": "code",
      "execution_count": null,
      "metadata": {
        "id": "9aIMFwSFikvX",
        "colab": {
          "base_uri": "https://localhost:8080/"
        },
        "outputId": "2fc2ab0d-06e6-45ae-db30-d3f9a5ec2266"
      },
      "outputs": [
        {
          "output_type": "stream",
          "name": "stdout",
          "text": [
            "0.35610061580210833\n"
          ]
        }
      ],
      "source": [
        "test_acc = estimate_accuracy_torch(pytorch_model, test4grams)\n",
        "print(test_acc)"
      ]
    },
    {
      "cell_type": "markdown",
      "metadata": {
        "id": "TIZyjNTYikvY"
      },
      "source": [
        "## Question 5. Visualizing Word Embeddings\n",
        "\n",
        "While training the `PyTorchWordEmb`, we trained the `word_emb_layer`, which takes a one-hot\n",
        "representation of a word in our vocabulary, and returns a low-dimensional vector\n",
        "representation of that word. In this question, we will explore these word embeddings.\n",
        "\n",
        "### Part (a) -- 1 pts\n",
        "\n",
        "The code below extracts the **weights** of the word embedding layer,\n",
        "and converts the PyTorch tensor into an numpy array.\n",
        "Explain why each *row* of `word_emb` contains the vector representing\n",
        "of a word. For example `word_emb[vocab_stoi[\"any\"],:]` contains the\n",
        "vector representation of the word \"any\"."
      ]
    },
    {
      "cell_type": "code",
      "execution_count": null,
      "metadata": {
        "id": "5dMXEp5DikvZ",
        "colab": {
          "base_uri": "https://localhost:8080/"
        },
        "outputId": "de8dddc5-2bf3-496a-d7b1-49b408c4576c"
      },
      "outputs": [
        {
          "output_type": "execute_result",
          "data": {
            "text/plain": [
              "array([ 0.19811277,  0.18181394,  0.05741554, -0.12819543, -0.3118508 ,\n",
              "        0.22615135,  0.08966187, -0.06256766,  0.0780341 , -0.04211776,\n",
              "       -0.20324224, -0.11297663, -0.01976839, -0.14458954, -0.05586763,\n",
              "       -0.2509726 , -0.06181936,  0.08014432, -0.02984094, -0.19449079,\n",
              "        0.21280663, -0.17459002, -0.18616338,  0.15353899, -0.0338647 ,\n",
              "       -0.255901  , -0.02299412,  0.16948695, -0.06690563,  0.1813928 ,\n",
              "        0.06673277, -0.04644088, -0.06284548,  0.1282209 ,  0.03192203,\n",
              "        0.18164654, -0.13162678,  0.03357139, -0.10963649,  0.10296755,\n",
              "       -0.12916076,  0.17052358, -0.04779596,  0.0551197 ,  0.04771732,\n",
              "       -0.08548681,  0.31449595,  0.22674292,  0.24079081,  0.05611932,\n",
              "        0.22542796, -0.15566675, -0.08035405, -0.01146581, -0.14123374,\n",
              "       -0.13780627,  0.02737975, -0.17204997,  0.17493868, -0.07193454,\n",
              "       -0.14012186,  0.15128611,  0.1931421 ,  0.02287123,  0.0362685 ,\n",
              "        0.3238685 ,  0.0190858 ,  0.08706717, -0.17183858,  0.09083327,\n",
              "       -0.13331658,  0.11302866, -0.079001  ,  0.05657508,  0.00880479,\n",
              "       -0.03514692,  0.03886321, -0.10118473,  0.04001047, -0.17734177,\n",
              "       -0.02126741,  0.01813794,  0.02084105,  0.06033223, -0.04071008,\n",
              "        0.10718629, -0.03718052, -0.01870161,  0.13542214,  0.14645833,\n",
              "        0.0917704 , -0.09290071,  0.19709732,  0.19628212,  0.17104651,\n",
              "       -0.02152256, -0.01137626,  0.07458696,  0.02295307,  0.19136804],\n",
              "      dtype=float32)"
            ]
          },
          "metadata": {},
          "execution_count": 23
        }
      ],
      "source": [
        "word_emb_weights = list(pytorch_model.word_emb_layer.parameters())[0]\n",
        "word_emb = word_emb_weights.detach().numpy().T\n",
        "\n",
        "word_emb[vocab_stoi[\"any\"],:]\n",
        "\n",
        "# Write your explanation here\n",
        "# This is the case because, recall that we have chosen to represent each word as a one-hot vector\n",
        "# Then, given that W^word is a vocab_size * embedding_size matrix, and we are choosing to represent\n",
        "# the word has a one-hot vector, we know that by matrix multiplication rules, multiplying this vector\n",
        "# by W^word will result in one of the rows of W^word being returned. \n"
      ]
    },
    {
      "cell_type": "markdown",
      "metadata": {
        "id": "skkP5n0likva"
      },
      "source": [
        "### Part (b) -- 1 pts\n",
        "\n",
        "Once interesting thing about these word embeddings is that distances\n",
        "in these vector representations of words make some sense! To show this,\n",
        "we have provided code below that computes the cosine similarity of\n",
        "every pair of words in our vocabulary."
      ]
    },
    {
      "cell_type": "code",
      "execution_count": null,
      "metadata": {
        "id": "Dhh9UGPBikvb",
        "colab": {
          "base_uri": "https://localhost:8080/"
        },
        "outputId": "048207bb-a9d0-44e2-9d8b-b729429b734a"
      },
      "outputs": [
        {
          "output_type": "stream",
          "name": "stdout",
          "text": [
            "0.43341818\n",
            "0.02629671\n"
          ]
        }
      ],
      "source": [
        "norms = np.linalg.norm(word_emb, axis=1)\n",
        "word_emb_norm = (word_emb.T / norms).T\n",
        "similarities = np.matmul(word_emb_norm, word_emb_norm.T)\n",
        "\n",
        "# Some example distances. The first one should be larger than the second\n",
        "print(similarities[vocab_stoi['any'], vocab_stoi['many']])\n",
        "print(similarities[vocab_stoi['any'], vocab_stoi['government']])"
      ]
    },
    {
      "cell_type": "markdown",
      "metadata": {
        "id": "YXvJ7mDiikvc"
      },
      "source": [
        "Compute the 5 closest words to the following words:\n",
        "\n",
        "- \"four\"\n",
        "- \"go\"\n",
        "- \"what\"\n",
        "- \"should\"\n",
        "- \"school\"\n",
        "- \"your\"\n",
        "- \"yesterday\"\n",
        "- \"not\""
      ]
    },
    {
      "cell_type": "code",
      "execution_count": null,
      "metadata": {
        "id": "qDm6ncGcikvd",
        "colab": {
          "base_uri": "https://localhost:8080/"
        },
        "outputId": "ccc32ec5-d043-43c1-fda3-ab99c8cd46b2"
      },
      "outputs": [
        {
          "output_type": "stream",
          "name": "stdout",
          "text": [
            "four:  ['few' 'several' 'five' 'three' 'four' 'two']\n",
            "go:  ['end' 'up' 'go' 'going' 'come' 'back']\n",
            "what:  ['ms.' 'when' 'how' 'who' 'where' 'what']\n",
            "should:  ['will' 'might' 'could' 'should' 'can' 'would']\n",
            "school:  ['company' 'team' 'home' 'music' 'school' 'game']\n",
            "your:  ['its' 'his' 'our' 'my' 'their' 'your']\n",
            "yesterday:  ['department' ')' 'ago' 'today' 'though' 'yesterday']\n",
            "not:  ['used' 'only' 'also' 'not' 'never' 'nt']\n"
          ]
        }
      ],
      "source": [
        "print(\"four: \", np.vectorize(vocab_itos.get)(np.argpartition(similarities[vocab_stoi['four']], -6)[-6:]))\n",
        "print(\"go: \", np.vectorize(vocab_itos.get)(np.argpartition(similarities[vocab_stoi['go']], -6)[-6:]))\n",
        "print(\"what: \", np.vectorize(vocab_itos.get)(np.argpartition(similarities[vocab_stoi['what']], -6)[-6:]))\n",
        "print(\"should: \", np.vectorize(vocab_itos.get)(np.argpartition(similarities[vocab_stoi['should']], -6)[-6:]))\n",
        "print(\"school: \", np.vectorize(vocab_itos.get)(np.argpartition(similarities[vocab_stoi['school']], -6)[-6:]))\n",
        "print(\"your: \", np.vectorize(vocab_itos.get)(np.argpartition(similarities[vocab_stoi['your']], -6)[-6:]))\n",
        "print(\"yesterday: \", np.vectorize(vocab_itos.get)(np.argpartition(similarities[vocab_stoi['yesterday']], -6)[-6:]))\n",
        "print(\"not: \", np.vectorize(vocab_itos.get)(np.argpartition(similarities[vocab_stoi['not']], -6)[-6:]))"
      ]
    },
    {
      "cell_type": "markdown",
      "metadata": {
        "id": "5egNXDDoikvf"
      },
      "source": [
        "### Part (c) -- 2 pts\n",
        "\n",
        "We can visualize the word embeddings by reducing the dimensionality of\n",
        "the word vectors to 2D. There are many dimensionality reduction techniques\n",
        "that we could use, and we will use an algorithm called t-SNE.\n",
        "(You don’t need to know what this is for the assignment,\n",
        "but we may cover it later in the course.)\n",
        "Nearby points in this 2-D space are meant to correspond to nearby points\n",
        "in the original, high-dimensional space.\n",
        "\n",
        "The following code runs the t-SNE algorithm and plots the result.\n",
        "Look at the plot and find two clusters of related words.\n",
        "What do the words in each cluster have in common?\n",
        "\n",
        "Note that there is randomness in the initialization of the t-SNE \n",
        "algorithm. If you re-run this code, you may get a different image.\n",
        "Please make sure to submit your image in the PDF file for your TA to see.\n",
        "\n",
        "\n",
        "Answer: I see one cluster consisting of words like \"several\", \"many\", \"few\", which could be interpreted as words that tell you about the amount of something. I also see a cluster consisting of \"my\", \"you\", \"their\", which are all pronouns.\n"
      ]
    },
    {
      "cell_type": "code",
      "execution_count": null,
      "metadata": {
        "id": "0o4zBD5jikvg",
        "colab": {
          "base_uri": "https://localhost:8080/",
          "height": 673
        },
        "outputId": "7e193f4e-c9dd-4db1-da82-f819b4dbd989"
      },
      "outputs": [
        {
          "output_type": "stream",
          "name": "stderr",
          "text": [
            "/usr/local/lib/python3.7/dist-packages/sklearn/manifold/_t_sne.py:783: FutureWarning: The default initialization in TSNE will change from 'random' to 'pca' in 1.2.\n",
            "  FutureWarning,\n",
            "/usr/local/lib/python3.7/dist-packages/sklearn/manifold/_t_sne.py:793: FutureWarning: The default learning rate in TSNE will change from 200.0 to 'auto' in 1.2.\n",
            "  FutureWarning,\n"
          ]
        },
        {
          "output_type": "display_data",
          "data": {
            "image/png": "[encoded data removed]",
            "text/plain": [
              "<Figure size 720x720 with 1 Axes>"
            ]
          },
          "metadata": {
            "needs_background": "light"
          }
        }
      ],
      "source": [
        "import sklearn.manifold\n",
        "tsne = sklearn.manifold.TSNE()\n",
        "Y = tsne.fit_transform(word_emb)\n",
        "\n",
        "plt.figure(figsize=(10, 10))\n",
        "plt.xlim(Y[:,0].min(), Y[:, 0].max())\n",
        "plt.ylim(Y[:,1].min(), Y[:, 1].max())\n",
        "for i, w in enumerate(vocab):\n",
        "    plt.text(Y[i, 0], Y[i, 1], w)\n",
        "plt.show()"
      ]
    }
  ],
  "metadata": {
    "colab": {
      "name": "a1.ipynb",
      "provenance": []
    },
    "language_info": {
      "name": "python"
    },
    "kernelspec": {
      "name": "python3",
      "display_name": "Python 3"
    }
  },
  "nbformat": 4,
  "nbformat_minor": 0
}